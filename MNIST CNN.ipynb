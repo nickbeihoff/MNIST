{
 "cells": [
  {
   "cell_type": "markdown",
   "metadata": {},
   "source": [
    "# Load the libraries"
   ]
  },
  {
   "cell_type": "code",
   "execution_count": 1,
   "metadata": {},
   "outputs": [],
   "source": [
    "import numpy as np\n",
    "import pandas as pd\n",
    "from sklearn.model_selection import train_test_split\n",
    "import random\n",
    "import matplotlib.pyplot as plt\n",
    "import tensorflow\n",
    "import tensorflow.python.keras as keras\n",
    "from tensorflow.keras.utils import to_categorical\n",
    "from tensorflow.python.keras.models import Sequential\n",
    "from tensorflow.python.keras.layers import Dense, Dropout, Flatten\n",
    "from tensorflow.python.keras.layers import Conv2D, MaxPooling2D\n",
    "from tensorflow.python.keras import backend as K"
   ]
  },
  {
   "cell_type": "markdown",
   "metadata": {},
   "source": [
    "# Depending on which version of tensorflow you have loaded, you may not need to run this.\n",
    "\n",
    "I have to for some reason"
   ]
  },
  {
   "cell_type": "code",
   "execution_count": 2,
   "metadata": {},
   "outputs": [],
   "source": [
    "from tensorflow.python.keras.backend import set_session\n",
    "from tensorflow.python.keras.backend import clear_session\n",
    "from tensorflow.python.keras.backend import get_session\n",
    "\n",
    "from tensorflow.compat.v1 import ConfigProto\n",
    "from tensorflow.compat.v1 import InteractiveSession\n",
    "\n",
    "config = ConfigProto()\n",
    "config.gpu_options.allow_growth = True\n",
    "session = InteractiveSession(config=config)"
   ]
  },
  {
   "cell_type": "markdown",
   "metadata": {},
   "source": [
    "# Load the data"
   ]
  },
  {
   "cell_type": "code",
   "execution_count": 3,
   "metadata": {},
   "outputs": [],
   "source": [
    "train = pd.read_csv('train.csv', sep=',')\n",
    "comp = pd.read_csv('test.csv', sep = ',')"
   ]
  },
  {
   "cell_type": "markdown",
   "metadata": {},
   "source": [
    "# Specify some global parameters"
   ]
  },
  {
   "cell_type": "markdown",
   "metadata": {},
   "source": [
    "#### The number of categories (digits), i.e. 10"
   ]
  },
  {
   "cell_type": "code",
   "execution_count": 4,
   "metadata": {},
   "outputs": [],
   "source": [
    "num_classes = 10"
   ]
  },
  {
   "cell_type": "markdown",
   "metadata": {},
   "source": [
    "#### Batch size (how many images to feed the model at a time). This helps with memory management."
   ]
  },
  {
   "cell_type": "code",
   "execution_count": 5,
   "metadata": {},
   "outputs": [],
   "source": [
    "batch_size = 128"
   ]
  },
  {
   "cell_type": "markdown",
   "metadata": {},
   "source": [
    "#### The percentage to hold-out for a test set"
   ]
  },
  {
   "cell_type": "code",
   "execution_count": 6,
   "metadata": {},
   "outputs": [],
   "source": [
    "holdout = 0.2"
   ]
  },
  {
   "cell_type": "markdown",
   "metadata": {},
   "source": [
    "#### The number of epochs (how many passes the model performs in order to learn)."
   ]
  },
  {
   "cell_type": "code",
   "execution_count": 7,
   "metadata": {},
   "outputs": [],
   "source": [
    "num_epochs = 10"
   ]
  },
  {
   "cell_type": "markdown",
   "metadata": {},
   "source": [
    "# Split and reshape the data"
   ]
  },
  {
   "cell_type": "code",
   "execution_count": 8,
   "metadata": {},
   "outputs": [],
   "source": [
    "train, test = train_test_split(train, test_size = holdout)"
   ]
  },
  {
   "cell_type": "code",
   "execution_count": 9,
   "metadata": {},
   "outputs": [],
   "source": [
    "x_train = train.iloc[:, 1:].values.astype('float32')\n",
    "y_train = train.iloc[:, 0].values.astype('float32')\n",
    "\n",
    "x_test = test.iloc[:, 1:].values.astype('float32')\n",
    "y_test = test.iloc[:,0].values.astype('float32')\n",
    "\n",
    "x_comp = comp.values.astype('float32')"
   ]
  },
  {
   "cell_type": "code",
   "execution_count": 10,
   "metadata": {},
   "outputs": [],
   "source": [
    "# Turning this 4D rather than 3D (the 1 value in the second dimesion) enables for batch processing down the line\n",
    "x_train = x_train.reshape(len(x_train),1,28,28)\n",
    "x_test = x_test.reshape(len(x_test),1,28,28)\n",
    "x_comp = x_comp.reshape(len(x_comp),1,28,28)\n",
    "\n",
    "y_train = to_categorical(y_train, num_classes)\n",
    "y_test = to_categorical(y_test, num_classes)"
   ]
  },
  {
   "cell_type": "markdown",
   "metadata": {},
   "source": [
    "# Make sure that the reshape worked"
   ]
  },
  {
   "cell_type": "code",
   "execution_count": 11,
   "metadata": {},
   "outputs": [
    {
     "data": {
      "image/png": "[encoded data removed]",
      "text/plain": [
       "<Figure size 432x288 with 1 Axes>"
      ]
     },
     "metadata": {
      "needs_background": "light"
     },
     "output_type": "display_data"
    },
    {
     "data": {
      "image/png": "[encoded data removed]",
      "text/plain": [
       "<Figure size 432x288 with 1 Axes>"
      ]
     },
     "metadata": {
      "needs_background": "light"
     },
     "output_type": "display_data"
    },
    {
     "data": {
      "image/png": "[encoded data removed]",
      "text/plain": [
       "<Figure size 432x288 with 1 Axes>"
      ]
     },
     "metadata": {
      "needs_background": "light"
     },
     "output_type": "display_data"
    }
   ],
   "source": [
    "plt.imshow(x_train[random.randint(0,len(x_train)),0,:,:], cmap=\"binary\")\n",
    "plt.show()\n",
    "plt.imshow(x_test[random.randint(0,len(x_test)),0,:,:], cmap=\"binary\")\n",
    "plt.show()\n",
    "plt.imshow(x_comp[random.randint(0,len(x_comp)),0,:,:], cmap=\"binary\")\n",
    "plt.show()"
   ]
  },
  {
   "cell_type": "markdown",
   "metadata": {},
   "source": [
    "# Build the model architecture"
   ]
  },
  {
   "cell_type": "code",
   "execution_count": 12,
   "metadata": {},
   "outputs": [],
   "source": [
    "model = Sequential()\n",
    "# This is a layer with 32 3x3 convolutions (i.e. scans of the image)\n",
    "# RELU activation tends to be the default/best for most applications\n",
    "model.add(Conv2D(32, kernel_size=(3, 3),\n",
    "                 activation='relu',\n",
    "                 input_shape = x_train.shape[1:],\n",
    "                 data_format = 'channels_first')) # <- This was a fun parameter to find out I needed to specify! This is because the 4D data we're feeding has 1 value for the second dimension\n",
    "# The features need to be pooled together\n",
    "model.add(MaxPooling2D(pool_size=(2, 2)))\n",
    "# The data needs to be passed through a flattener in order to fit into a basic dense layer. It won't take data greater than 1D. Essentially, it needs to be squashed back down to a row\n",
    "model.add(Flatten())\n",
    "# Lets add a dense layer before the output just for funsies.\n",
    "model.add(Dense(128, activation='relu'))\n",
    "# Here's the output layer. Notice the softmax activation.\n",
    "model.add(Dense(num_classes, activation='softmax'))"
   ]
  },
  {
   "cell_type": "markdown",
   "metadata": {},
   "source": [
    "# Compile the model"
   ]
  },
  {
   "cell_type": "code",
   "execution_count": 13,
   "metadata": {},
   "outputs": [],
   "source": [
    "# Now we define how the mdel will learn, and which metrics we care about when analyzing how well it did.\n",
    "#     Obviously we want categorical cross entropy loss\n",
    "#     Adadelta is just an algorithm that determines how the model \"steps down the hill.\" \n",
    "#         This can be changed as you see fit. Some work better than others for each unique problem. This is also a mathematical rabbithole you may not want to explore right now.\n",
    "#     For now, we're just going to look at the accuracy of the model. It helps to compare validation accuracy against training accuracy so as to avoid overfitting.\n",
    "#         Training over too many epochs may lead to overfitting. The model starts to predict the training data almost perfectly, but it doesn't generalize well. You'll start to see validation accuracy fall.\n",
    "model.compile(loss=keras.losses.categorical_crossentropy,\n",
    "              optimizer=tensorflow.keras.optimizers.Adadelta(),\n",
    "              metrics=['accuracy'])"
   ]
  },
  {
   "cell_type": "markdown",
   "metadata": {},
   "source": [
    "# Make sure the model looks correct"
   ]
  },
  {
   "cell_type": "code",
   "execution_count": 14,
   "metadata": {},
   "outputs": [
    {
     "name": "stdout",
     "output_type": "stream",
     "text": [
      "Model: \"sequential\"\n",
      "_________________________________________________________________\n",
      "Layer (type)                 Output Shape              Param #   \n",
      "=================================================================\n",
      "conv2d (Conv2D)              (None, 32, 26, 26)        320       \n",
      "_________________________________________________________________\n",
      "max_pooling2d (MaxPooling2D) (None, 16, 13, 26)        0         \n",
      "_________________________________________________________________\n",
      "flatten (Flatten)            (None, 5408)              0         \n",
      "_________________________________________________________________\n",
      "dense (Dense)                (None, 128)               692352    \n",
      "_________________________________________________________________\n",
      "dense_1 (Dense)              (None, 10)                1290      \n",
      "=================================================================\n",
      "Total params: 693,962\n",
      "Trainable params: 693,962\n",
      "Non-trainable params: 0\n",
      "_________________________________________________________________\n"
     ]
    }
   ],
   "source": [
    "model.summary()"
   ]
  },
  {
   "cell_type": "markdown",
   "metadata": {},
   "source": [
    "# Fit the model"
   ]
  },
  {
   "cell_type": "code",
   "execution_count": 16,
   "metadata": {},
   "outputs": [
    {
     "name": "stdout",
     "output_type": "stream",
     "text": [
      "Train on 26880 samples, validate on 6720 samples\n",
      "Epoch 1/10\n",
      "26880/26880 [==============================] - 1s 43us/sample - loss: 2.2394 - accuracy: 0.7702 - val_loss: 2.2810 - val_accuracy: 0.7656\n",
      "Epoch 2/10\n",
      "26880/26880 [==============================] - 1s 40us/sample - loss: 2.0451 - accuracy: 0.7868 - val_loss: 2.1113 - val_accuracy: 0.7827\n",
      "Epoch 3/10\n",
      "26880/26880 [==============================] - 1s 40us/sample - loss: 1.8865 - accuracy: 0.7975 - val_loss: 1.9690 - val_accuracy: 0.7936\n",
      "Epoch 4/10\n",
      "26880/26880 [==============================] - 1s 40us/sample - loss: 1.7553 - accuracy: 0.8087 - val_loss: 1.8521 - val_accuracy: 0.8033\n",
      "Epoch 5/10\n",
      "26880/26880 [==============================] - 1s 39us/sample - loss: 1.6429 - accuracy: 0.8179 - val_loss: 1.7532 - val_accuracy: 0.8097\n",
      "Epoch 6/10\n",
      "26880/26880 [==============================] - 1s 39us/sample - loss: 1.5485 - accuracy: 0.8270 - val_loss: 1.6646 - val_accuracy: 0.8173\n",
      "Epoch 7/10\n",
      "26880/26880 [==============================] - 1s 39us/sample - loss: 1.4664 - accuracy: 0.8336 - val_loss: 1.5914 - val_accuracy: 0.8241\n",
      "Epoch 8/10\n",
      "26880/26880 [==============================] - 1s 38us/sample - loss: 1.3936 - accuracy: 0.8407 - val_loss: 1.5274 - val_accuracy: 0.8292\n",
      "Epoch 9/10\n",
      "26880/26880 [==============================] - 1s 38us/sample - loss: 1.3287 - accuracy: 0.8453 - val_loss: 1.4678 - val_accuracy: 0.8332\n",
      "Epoch 10/10\n",
      "26880/26880 [==============================] - 1s 39us/sample - loss: 1.2708 - accuracy: 0.8512 - val_loss: 1.4159 - val_accuracy: 0.8385\n",
      "Test loss: 1.472117815429256\n",
      "Test accuracy: 0.8414286\n"
     ]
    }
   ],
   "source": [
    "model.fit(x_train, y_train,\n",
    "          batch_size = batch_size,\n",
    "          epochs = num_epochs,\n",
    "          verbose = 1,\n",
    "          validation_split = 0.2) # This is where we specify how much of the training data to hold-out for validation\n",
    "score = model.evaluate(x_test, y_test, verbose=0)\n",
    "print('Test loss:', score[0])\n",
    "print('Test accuracy:', score[1])"
   ]
  },
  {
   "cell_type": "code",
   "execution_count": null,
   "metadata": {},
   "outputs": [],
   "source": []
  }
 ],
 "metadata": {
  "kernelspec": {
   "display_name": "Python 3",
   "language": "python",
   "name": "python3"
  },
  "language_info": {
   "codemirror_mode": {
    "name": "ipython",
    "version": 3
   },
   "file_extension": ".py",
   "mimetype": "text/x-python",
   "name": "python",
   "nbconvert_exporter": "python",
   "pygments_lexer": "ipython3",
   "version": "3.7.6"
  }
 },
 "nbformat": 4,
 "nbformat_minor": 4
}
